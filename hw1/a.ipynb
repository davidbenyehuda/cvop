{
 "cells": [
  {
   "cell_type": "code",
   "execution_count": 1,
   "metadata": {},
   "outputs": [],
   "source": [
    "import dataset \n",
    "import seaborn as sns\n",
    "import os\n",
    "import numpy as np\n",
    "import cv2\n",
    "import pandas as pd\n"
   ]
  },
  {
   "cell_type": "code",
   "execution_count": 2,
   "metadata": {},
   "outputs": [],
   "source": [
    "dataset.VIDEO_PATH=\"videos/\"\n",
    "dataset.DATASET_PATH=\"HW1_dataset/\""
   ]
  },
  {
   "cell_type": "code",
   "execution_count": 3,
   "metadata": {},
   "outputs": [
    {
     "data": {
      "text/html": [
       "<div>\n",
       "<style scoped>\n",
       "    .dataframe tbody tr th:only-of-type {\n",
       "        vertical-align: middle;\n",
       "    }\n",
       "\n",
       "    .dataframe tbody tr th {\n",
       "        vertical-align: top;\n",
       "    }\n",
       "\n",
       "    .dataframe thead th {\n",
       "        text-align: right;\n",
       "    }\n",
       "</style>\n",
       "<table border=\"1\" class=\"dataframe\">\n",
       "  <thead>\n",
       "    <tr style=\"text-align: right;\">\n",
       "      <th></th>\n",
       "      <th>image</th>\n",
       "      <th>boxes</th>\n",
       "      <th>ImgName</th>\n",
       "    </tr>\n",
       "  </thead>\n",
       "  <tbody>\n",
       "    <tr>\n",
       "      <th>0</th>\n",
       "      <td>[[[0, 9, 9], [0, 8, 8], [0, 10, 12], [2, 14, 2...</td>\n",
       "      <td>[[2, 0.44565679257812496, 0.404519786875, 0.22...</td>\n",
       "      <td>P040_balloon1_2500</td>\n",
       "    </tr>\n",
       "    <tr>\n",
       "      <th>1</th>\n",
       "      <td>[[[88, 113, 129], [89, 114, 130], [89, 114, 13...</td>\n",
       "      <td>[[5, 0.580750407890625, 0.5279891304166667, 0....</td>\n",
       "      <td>P019_balloon1_3236</td>\n",
       "    </tr>\n",
       "    <tr>\n",
       "      <th>2</th>\n",
       "      <td>[[[0, 12, 14], [0, 12, 14], [0, 13, 12], [1, 1...</td>\n",
       "      <td>[[7, 0.64751075390625, 0.5221766277083333, 0.1...</td>\n",
       "      <td>P030_balloon1_6865</td>\n",
       "    </tr>\n",
       "    <tr>\n",
       "      <th>3</th>\n",
       "      <td>[[[59, 85, 97], [58, 84, 96], [57, 83, 95], [5...</td>\n",
       "      <td>[[7, 0.82287056390625, 0.42083333802083334, 0....</td>\n",
       "      <td>P025_balloon1_4907</td>\n",
       "    </tr>\n",
       "    <tr>\n",
       "      <th>4</th>\n",
       "      <td>[[[105, 119, 118], [106, 120, 119], [108, 122,...</td>\n",
       "      <td>[[7, 0.7694208650000001, 0.4862968402083333, 0...</td>\n",
       "      <td>P035_balloon1_1085</td>\n",
       "    </tr>\n",
       "    <tr>\n",
       "      <th>...</th>\n",
       "      <td>...</td>\n",
       "      <td>...</td>\n",
       "      <td>...</td>\n",
       "    </tr>\n",
       "    <tr>\n",
       "      <th>785</th>\n",
       "      <td>[[[113, 119, 130], [114, 120, 131], [116, 122,...</td>\n",
       "      <td>[[5, 0.684484038671875, 0.5659653464583333, 0....</td>\n",
       "      <td>P036_balloon1_1951</td>\n",
       "    </tr>\n",
       "    <tr>\n",
       "      <th>786</th>\n",
       "      <td>[[[57, 81, 87], [58, 82, 88], [59, 83, 89], [6...</td>\n",
       "      <td>[[7, 0.606767794609375, 0.6065225809375001, 0....</td>\n",
       "      <td>P024_balloon1_1518</td>\n",
       "    </tr>\n",
       "    <tr>\n",
       "      <th>787</th>\n",
       "      <td>[[[61, 92, 101], [60, 91, 100], [57, 88, 97], ...</td>\n",
       "      <td>[[5, 0.7112561175, 0.5796195652083334, 0.17781...</td>\n",
       "      <td>P025_balloon1_3977</td>\n",
       "    </tr>\n",
       "    <tr>\n",
       "      <th>788</th>\n",
       "      <td>[[[48, 72, 96], [49, 73, 97], [51, 75, 99], [5...</td>\n",
       "      <td>[[5, 0.6711210096093752, 0.5431930692708333, 0...</td>\n",
       "      <td>P027_balloon1_4255</td>\n",
       "    </tr>\n",
       "    <tr>\n",
       "      <th>789</th>\n",
       "      <td>[[[23, 10, 26], [24, 11, 27], [23, 12, 28], [2...</td>\n",
       "      <td>[[5, 0.6313213703125, 0.516576086875, 0.159869...</td>\n",
       "      <td>P017_balloon1_1862</td>\n",
       "    </tr>\n",
       "  </tbody>\n",
       "</table>\n",
       "<p>790 rows × 3 columns</p>\n",
       "</div>"
      ],
      "text/plain": [
       "                                                 image  \\\n",
       "0    [[[0, 9, 9], [0, 8, 8], [0, 10, 12], [2, 14, 2...   \n",
       "1    [[[88, 113, 129], [89, 114, 130], [89, 114, 13...   \n",
       "2    [[[0, 12, 14], [0, 12, 14], [0, 13, 12], [1, 1...   \n",
       "3    [[[59, 85, 97], [58, 84, 96], [57, 83, 95], [5...   \n",
       "4    [[[105, 119, 118], [106, 120, 119], [108, 122,...   \n",
       "..                                                 ...   \n",
       "785  [[[113, 119, 130], [114, 120, 131], [116, 122,...   \n",
       "786  [[[57, 81, 87], [58, 82, 88], [59, 83, 89], [6...   \n",
       "787  [[[61, 92, 101], [60, 91, 100], [57, 88, 97], ...   \n",
       "788  [[[48, 72, 96], [49, 73, 97], [51, 75, 99], [5...   \n",
       "789  [[[23, 10, 26], [24, 11, 27], [23, 12, 28], [2...   \n",
       "\n",
       "                                                 boxes             ImgName  \n",
       "0    [[2, 0.44565679257812496, 0.404519786875, 0.22...  P040_balloon1_2500  \n",
       "1    [[5, 0.580750407890625, 0.5279891304166667, 0....  P019_balloon1_3236  \n",
       "2    [[7, 0.64751075390625, 0.5221766277083333, 0.1...  P030_balloon1_6865  \n",
       "3    [[7, 0.82287056390625, 0.42083333802083334, 0....  P025_balloon1_4907  \n",
       "4    [[7, 0.7694208650000001, 0.4862968402083333, 0...  P035_balloon1_1085  \n",
       "..                                                 ...                 ...  \n",
       "785  [[5, 0.684484038671875, 0.5659653464583333, 0....  P036_balloon1_1951  \n",
       "786  [[7, 0.606767794609375, 0.6065225809375001, 0....  P024_balloon1_1518  \n",
       "787  [[5, 0.7112561175, 0.5796195652083334, 0.17781...  P025_balloon1_3977  \n",
       "788  [[5, 0.6711210096093752, 0.5431930692708333, 0...  P027_balloon1_4255  \n",
       "789  [[5, 0.6313213703125, 0.516576086875, 0.159869...  P017_balloon1_1862  \n",
       "\n",
       "[790 rows x 3 columns]"
      ]
     },
     "execution_count": 3,
     "metadata": {},
     "output_type": "execute_result"
    }
   ],
   "source": [
    "df=dataset.create_df(\"train\",with_image_names=True)\n",
    "df"
   ]
  },
  {
   "cell_type": "code",
   "execution_count": 37,
   "metadata": {},
   "outputs": [],
   "source": [
    "s=df['boxes'].apply(lambda x: pd.Series(pd.Series(x)), 1).stack()\n",
    "s.index = s.index.droplevel(-1)\n",
    "\n",
    "bboxes_df=s.apply(pd.Series)\n",
    "bboxes_df=bboxes_df.join(df[\"ImgName\"])"
   ]
  },
  {
   "cell_type": "code",
   "execution_count": 38,
   "metadata": {},
   "outputs": [],
   "source": [
    "bboxes_df=bboxes_df.reset_index()\n",
    "\n",
    "bboxes_df.columns=[\"ImgId\",\"label_index\", \"xcenter\", \"ycenter\", \"w\", \"h\",\"ImgName\"]\n",
    "bboxes_df[\"label_index\"]=bboxes_df[\"label_index\"].apply(int)\n",
    "bboxes_df[\"balloon\"]= np.where(bboxes_df['ImgName'].str.contains(pat=\"ball\"), True, False)\n"
   ]
  },
  {
   "cell_type": "code",
   "execution_count": 41,
   "metadata": {},
   "outputs": [
    {
     "data": {
      "text/plain": [
       "<AxesSubplot:xlabel='label_index', ylabel='Count'>"
      ]
     },
     "execution_count": 41,
     "metadata": {},
     "output_type": "execute_result"
    },
    {
     "data": {
      "image/png": "[encoded data removed]",
      "text/plain": [
       "<Figure size 640x480 with 1 Axes>"
      ]
     },
     "metadata": {},
     "output_type": "display_data"
    }
   ],
   "source": [
    "sns.histplot(data=bboxes_df, x=\"label_index\",hue=\"balloon\")\n"
   ]
  },
  {
   "cell_type": "code",
   "execution_count": null,
   "metadata": {},
   "outputs": [
    {
     "data": {
      "text/plain": [
       "ImgId          1574\n",
       "label_index    1574\n",
       "xcenter        1574\n",
       "ycenter        1574\n",
       "w              1574\n",
       "h              1574\n",
       "dtype: int64"
      ]
     },
     "execution_count": 39,
     "metadata": {},
     "output_type": "execute_result"
    }
   ],
   "source": [
    "bboxes_df.dropna(how=\"all\").count(numeric_only=True)\n"
   ]
  },
  {
   "cell_type": "markdown",
   "metadata": {},
   "source": [
    "no null values"
   ]
  },
  {
   "cell_type": "code",
   "execution_count": null,
   "metadata": {},
   "outputs": [],
   "source": [
    "df2 = bboxes_df.groupby(['ImgId'])['ImgId'].count()"
   ]
  },
  {
   "cell_type": "code",
   "execution_count": null,
   "metadata": {},
   "outputs": [
    {
     "data": {
      "text/plain": [
       "ImgId\n",
       "0      2\n",
       "1      2\n",
       "2      2\n",
       "3      2\n",
       "4      2\n",
       "      ..\n",
       "785    2\n",
       "786    2\n",
       "787    2\n",
       "788    2\n",
       "789    2\n",
       "Name: ImgId, Length: 790, dtype: int64"
      ]
     },
     "execution_count": 35,
     "metadata": {},
     "output_type": "execute_result"
    }
   ],
   "source": [
    "df2."
   ]
  },
  {
   "cell_type": "code",
   "execution_count": null,
   "metadata": {},
   "outputs": [],
   "source": [
    "bboxes_df=pd.DataFrame(columns= [\"imgId\",\"label_index\", \"xcenter\", \"ycenter\", \"w\", \"h\"])\n",
    "bboxes_df"
   ]
  },
  {
   "cell_type": "code",
   "execution_count": null,
   "metadata": {},
   "outputs": [
    {
     "name": "stdout",
     "output_type": "stream",
     "text": [
      "Error opening video stream or file\n"
     ]
    }
   ],
   "source": [
    "cap = cv2.VideoCapture(VIDEO_PATH+'P023_tissue1.wmv')\n",
    "# Check if camera opened successfully\n",
    "if (cap.isOpened() == False):\n",
    "    print(\"Error opening video stream or file\")"
   ]
  },
  {
   "cell_type": "code",
   "execution_count": null,
   "metadata": {},
   "outputs": [],
   "source": []
  },
  {
   "cell_type": "code",
   "execution_count": null,
   "metadata": {},
   "outputs": [],
   "source": [
    "f = open(\"demofile.txt\", \"r\")\n"
   ]
  }
 ],
 "metadata": {
  "kernelspec": {
   "display_name": "Python 3.8.15 ('cvop')",
   "language": "python",
   "name": "python3"
  },
  "language_info": {
   "codemirror_mode": {
    "name": "ipython",
    "version": 3
   },
   "file_extension": ".py",
   "mimetype": "text/x-python",
   "name": "python",
   "nbconvert_exporter": "python",
   "pygments_lexer": "ipython3",
   "version": "3.8.15"
  },
  "orig_nbformat": 4,
  "vscode": {
   "interpreter": {
    "hash": "be07e7d917e651f534d0f29004480efdd9f28b234729c5df5205f7b87f5aa417"
   }
  }
 },
 "nbformat": 4,
 "nbformat_minor": 2
}
